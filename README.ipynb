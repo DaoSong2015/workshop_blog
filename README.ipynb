{
 "cells": [
  {
   "cell_type": "markdown",
   "metadata": {
    "collapsed": true
   },
   "source": [
    "# 如何使用和开发微信聊天机器人的系列教程\n",
    "# A workshop to use an intelligent and interactive chat-bot in WeChat\n",
    "### WeChat is a popular social media app, which has more than 700 million monthly active users.\n",
    "\n",
    "### http://www.KudosData.com\n",
    "\n",
    "<img src='http://www.kudosdata.com/wp-content/uploads/2016/11/cropped-KudosLogo1.png' width=20% style=\"float: right;\">\n",
    "\n",
    "by: Sam.Gu@KudosData.com\n",
    "\n",
    "\n",
    "April 2017\n"
   ]
  },
  {
   "cell_type": "markdown",
   "metadata": {},
   "source": [
    "---"
   ]
  },
  {
   "cell_type": "markdown",
   "metadata": {
    "collapsed": true
   },
   "source": [
    "## {1} 教程大纲\n",
    "\n",
    "### Lesson 1 内容简介: 使用微信问答机制\n",
    "* 使用微信个人号聊天机器人：一种Python编程接口API\n",
    "* 微信消息的基本获取与处理： 文字、图片、文件、语音、视频、名片等\n",
    "* 微信消息的指定发送\n",
    "* 微信消息的自动回复\n",
    "* 聊天功能中其他自定义消息处理方法：例如回复群组中被@的消息、保存文件、好友删除检测等\n",
    "\n",
    "### Lesson 2 内容简介: 图像识别和处理\n",
    "* 识别图片消息中的物体名字\n",
    "* 识别人脸\n",
    "* 基于人脸的表情来识别喜怒哀乐等情绪\n",
    "\n",
    "### Lesson 3 内容简介: 自然语言处理\n",
    "* 消息文字转成语音\n",
    "* 语音转换成消息文字\n",
    "* 消息文字的多语言互译\n",
    "\n",
    "### Lesson 4 内容简介: 视频识别和处理\n",
    "* 识别视频消息中的物体名字\n",
    "* 识别视频的场景\n",
    "\n",
    "### Lesson 5 内容简介: 互动智能机器人应用\n",
    "* 多语言翻译器\n",
    "* 图文多媒体的订阅和点播\n",
    "* 文章的概括和缩写\n",
    "* 不雅图片的识别；不雅视频片段的自动识别和定位\n",
    "* 基于商品图片的搜索和商家价格比较\n"
   ]
  },
  {
   "cell_type": "markdown",
   "metadata": {},
   "source": [
    "---"
   ]
  },
  {
   "cell_type": "markdown",
   "metadata": {},
   "source": [
    "## {2} 开发环境安装\n",
    "\n",
    "### Option 1 使用云平台: Use Cloud Platform \n",
    "### (Difficulty level: Easy, like being a boss)\n",
    "* Create an account in Google Cloud Platform (GCP), using Cloud Console\n",
    "* Start Datalab (Jupyter python notebook) in GCP Compute Engine, using Cloud Shell\n",
    "* Create a new notebook from datalab folder, then run below two command in notebook cell:\n",
    "    > !git clone https://github.com/telescopeuser/workshop_blog.git\n",
    "\n",
    "    > %load workshop_blog/setup_cloud.py\n",
    "\n",
    "\n",
    "### Option 2 下载虚拟机: Use a Virtual Machine to run in your own computer \n",
    "### (Difficulty level: Medium, as bribing your colleague)\n",
    "* Download a virtual machine (VM about 1.5 GB), which contains this workshop notebook. [Download Link TBC]\n",
    "* Install Virtualbox tool to use above virtual machine, if you don't have this software. https://www.virtualbox.org/wiki/Downloads\n",
    "* Start to run the VM using Virtualbox\n",
    "* Open a web browser, go to url: http://127.0.0.1:8080/tree\n",
    "* Update/pull latest workshop python notebooks from Github: https://github.com/telescopeuser/workshop_blog.git\n",
    "\n",
    "\n",
    "### Option 3 本机安装: Use your own computer \n",
    "### (Difficulty level: High, as what you normally do)\n",
    "* Install Anaconda (This software includes many useful tools: Python, Jupyter Notebook, pip) https://www.continuum.io/downloads\n",
    "* Install Anaconda (This software includes many useful tools: Python, Jupyter Notebook, pip) https://www.continuum.io/downloads\n",
    "* Install WeChat API package for Anaconda / python\n",
    "    > pip install -U html\n",
    "    \n",
    "    > pip install -U qrcode\n",
    "    \n",
    "    > pip install -U itchat\n",
    "    \n",
    "* Download workshop python notebook code from Github: https://github.com/telescopeuser/workshop_blog.git\n",
    "* Start Jupyter Notebook (Here I use Git Bash command line tool)\n",
    "* Open a web browser if it's not started automatically. Go to url: http://localhost/tree"
   ]
  },
  {
   "cell_type": "markdown",
   "metadata": {},
   "source": [
    "---"
   ]
  },
  {
   "cell_type": "markdown",
   "metadata": {
    "collapsed": true
   },
   "source": [
    "## 恭喜您！安装成功了！下一步进入具体课程和实战操作，请打开第一课的笔记本。\n",
    "### After completing one of the installation options, you are now ready to rock! Go to folder: workshop_blog/wechat_tool, open Notebook and follow...\n",
    "\n",
    "<img src='./wechat_tool/reference/setup_ref_01.png' width=100% style=\"float: left;\">"
   ]
  },
  {
   "cell_type": "markdown",
   "metadata": {},
   "source": [
    "---"
   ]
  }
 ],
 "metadata": {
  "kernelspec": {
   "display_name": "Python 2",
   "language": "python",
   "name": "python2"
  },
  "language_info": {
   "codemirror_mode": {
    "name": "ipython",
    "version": 2
   },
   "file_extension": ".py",
   "mimetype": "text/x-python",
   "name": "python",
   "nbconvert_exporter": "python",
   "pygments_lexer": "ipython2",
   "version": "2.7.12"
  }
 },
 "nbformat": 4,
 "nbformat_minor": 0
}
