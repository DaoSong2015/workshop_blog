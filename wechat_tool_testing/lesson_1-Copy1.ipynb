{
 "cells": [
  {
   "cell_type": "markdown",
   "metadata": {},
   "source": [
    "# 如何使用和开发微信聊天机器人的系列教程\n",
    "# A workshop to develop & use an intelligent and interactive chat-bot in WeChat"
   ]
  },
  {
   "cell_type": "markdown",
   "metadata": {},
   "source": [
    "### WeChat is a popular social media app, which has more than 800 million monthly active users.\n",
    "\n",
    "<img src='http://www.kudosdata.com/wp-content/uploads/2016/11/cropped-KudosLogo1.png' width=30% style=\"float: right;\">\n",
    "<img src='reference/WeChat_SamGu_QR.png' width=10% style=\"float: right;\">\n",
    "\n",
    "### http://www.KudosData.com\n",
    "\n",
    "by: Sam.Gu@KudosData.com\n",
    "\n",
    "\n",
    "April 2017 ========== Scan the QR code to become trainer's friend in WeChat ========>>"
   ]
  },
  {
   "cell_type": "markdown",
   "metadata": {},
   "source": [
    "### 第一课：使用微信问答机制\n",
    "### Lesson 1: Basic usage of WeChat Python API\n",
    "* 使用和开发微信个人号聊天机器人：一种Python编程接口 (Use WeChat Python API)\n",
    "* 用微信App扫QR码图片来自动登录 (Log-in, contact scan, and processing of text, image, file, video, etc)\n",
    "* 查找指定联系人或群组 (Scan ccontact list)\n",
    "* 发送信息（文字、图片、文件、音频、视频等） (Send message: text, image, file, voice, video, etc)\n",
    "* 接收信息 (Receive message, and keep 'listening')\n",
    "* 自动回复 (Receive message and then automaticaly reply)\n",
    "* 自定义复杂消息处理，例如：信息存档、回复群组中被@的消息 (Advanced message processing and reply)"
   ]
  },
  {
   "cell_type": "markdown",
   "metadata": {},
   "source": [
    "### 导入需要用到的一些功能程序库："
   ]
  },
  {
   "cell_type": "code",
   "execution_count": 36,
   "metadata": {
    "collapsed": false
   },
   "outputs": [
    {
     "name": "stderr",
     "output_type": "stream",
     "text": [
      "LOG OUT!\n"
     ]
    },
    {
     "data": {
      "text/plain": [
       "<ItchatReturnValue: {'BaseResponse': {'Ret': 0, 'ErrMsg': u'\\u8bf7\\u6c42\\u6210\\u529f', 'RawMsg': 'logout successfully.'}}>"
      ]
     },
     "execution_count": 36,
     "metadata": {},
     "output_type": "execute_result"
    }
   ],
   "source": [
    "itchat.logout()"
   ]
  },
  {
   "cell_type": "code",
   "execution_count": 1,
   "metadata": {
    "collapsed": false
   },
   "outputs": [
    {
     "name": "stdout",
     "output_type": "stream",
     "text": [
      "█\r"
     ]
    }
   ],
   "source": [
    "# from __future__ import unicode_literals, division\n",
    "import time, datetime, requests, itchat\n",
    "from itchat.content import *"
   ]
  },
  {
   "cell_type": "markdown",
   "metadata": {},
   "source": [
    "### * 用微信App扫QR码图片来自动登录"
   ]
  },
  {
   "cell_type": "code",
   "execution_count": 2,
   "metadata": {
    "collapsed": false
   },
   "outputs": [
    {
     "name": "stderr",
     "output_type": "stream",
     "text": [
      "Getting uuid of QR code.\n",
      "Downloading QR code.\n",
      "Please scan the QR code to log in.\n"
     ]
    },
    {
     "name": "stdout",
     "output_type": "stream",
     "text": [
      "www.KudosData.com : QR.png\n"
     ]
    },
    {
     "name": "stderr",
     "output_type": "stream",
     "text": [
      "Please press confirm on your phone.\n",
      "Loading the contact, this may take a little while.\n",
      "Login successfully as 白黑\n"
     ]
    }
   ],
   "source": [
    "itchat.auto_login(hotReload=True) # hotReload=True: 退出程序后暂存登陆状态。即使程序关闭，一定时间内重新开启也可以不用重新扫码。\n",
    "# itchat.auto_login(enableCmdQR=-2) # enableCmdQR=-2: 命令行显示QR图片"
   ]
  },
  {
   "cell_type": "markdown",
   "metadata": {},
   "source": [
    "### * 查找指定联系人或群组\n",
    "\n",
    "使用search_friends方法可以搜索用户，有几种搜索方式： \n",
    "\n",
    "\n",
    "1.仅获取自己的用户信息 \n",
    "\n",
    "\n",
    "2.获取昵称'NickName'、微信号'Alias'、备注名'RemarkName'中的任何一项等于name键值的用户 \n",
    "\n",
    "\n",
    "3.获取分别对应相应键值的用户"
   ]
  },
  {
   "cell_type": "code",
   "execution_count": 3,
   "metadata": {
    "collapsed": false
   },
   "outputs": [
    {
     "name": "stdout",
     "output_type": "stream",
     "text": [
      "{'UserName': u'@8804e268efa100bd28e0ae74c85a7d6a', 'City': '', 'DisplayName': '', 'UniFriend': 0, 'OwnerUin': 0, 'MemberList': [], 'PYQuanPin': u'baihei', 'RemarkPYInitial': u'', 'Uin': 965176200, 'AppAccountFlag': 0, 'VerifyFlag': 0, 'Province': u'Auckland', 'KeyWord': u'Tel', 'RemarkName': u'', 'PYInitial': u'BH', 'ChatRoomId': 0, u'IsOwner': 0, 'HideInputBarFlag': 0, u'HeadImgFlag': 1, 'EncryChatRoomId': '', 'AttrStatus': 100902333, 'SnsFlag': 49, 'MemberCount': 0, u'WebWxPluginSwitch': 0, 'Alias': '', 'Signature': u'', 'ContactFlag': 2053, 'NickName': u'\\u767d\\u9ed1', 'RemarkPYQuanPin': u'', 'HeadImgUrl': u'/cgi-bin/mmwebwx-bin/webwxgeticon?seq=634004461&username=@8804e268efa100bd28e0ae74c85a7d6a&skey=@crypt_a75926a_dfdd844c85294fcd16e744e496a26f19', 'Sex': 1, 'StarFriend': 0, 'Statues': 0}\n"
     ]
    }
   ],
   "source": [
    "# 获取自己的用户信息，返回自己的属性字典\n",
    "friend = itchat.search_friends()\n",
    "print(friend)"
   ]
  },
  {
   "cell_type": "code",
   "execution_count": 4,
   "metadata": {
    "collapsed": false
   },
   "outputs": [
    {
     "name": "stdout",
     "output_type": "stream",
     "text": [
      "NickName  : 白黑\n",
      "Alias A-ID: \n",
      "RemarkName: \n",
      "UserName  : @8804e268efa100bd28e0ae74c85a7d6a\n"
     ]
    }
   ],
   "source": [
    "print('NickName  : %s' % friend['NickName'])\n",
    "print('Alias A-ID: %s' % friend['Alias'])\n",
    "print('RemarkName: %s' % friend['RemarkName'])\n",
    "print('UserName  : %s' % friend['UserName'])"
   ]
  },
  {
   "cell_type": "code",
   "execution_count": 23,
   "metadata": {
    "collapsed": false
   },
   "outputs": [],
   "source": [
    "# 获取任何一项等于name键值的用户。\n",
    "# 'NickName' 昵称, set by that friend, changeable\n",
    "# 'Alias' ID微信号 = wechatAccount, one time set by that friend, cannot change\n",
    "# 'RemarkName' 备注名, set by current login account owner, changeable by login account owner\n",
    "# 注意：返回可能包含多个朋友。为什么呢？\n",
    "\n",
    "# friend = itchat.search_friends(name=u'酷豆陪聊妹')\n",
    "friend = itchat.search_friends(name=u'酷豆机器人')\n",
    "# friend = itchat.search_friends(name=u'Sam Gu')\n",
    "# friend = itchat.search_friends(name=u'Mr. R')\n",
    "# friend = itchat.search_friends(name=u'Ms. S')"
   ]
  },
  {
   "cell_type": "code",
   "execution_count": 24,
   "metadata": {
    "collapsed": false
   },
   "outputs": [
    {
     "name": "stdout",
     "output_type": "stream",
     "text": [
      "NickName  : 酷豆陪聊妹\n",
      "Alias A-ID: \n",
      "RemarkName: 酷豆机器人\n",
      "UserName  : @5aada7cc7572e5570813bc6207eca3456b40ca34d1894ca2dfa70ec47fb89657\n"
     ]
    }
   ],
   "source": [
    "for i in range(0, len(friend)):\n",
    "    print('NickName  : %s' % friend[i]['NickName'])\n",
    "    print('Alias A-ID: %s' % friend[i]['Alias'])\n",
    "    print('RemarkName: %s' % friend[i]['RemarkName'])\n",
    "    print('UserName  : %s' % friend[i]['UserName'])"
   ]
  },
  {
   "cell_type": "code",
   "execution_count": 18,
   "metadata": {
    "collapsed": false
   },
   "outputs": [],
   "source": [
    "# 获取分别对应相应键值的用户。\n",
    "\n",
    "# friend = itchat.search_friends(nickName=u'Sam Gu')\n",
    "# friend = itchat.search_friends(wechatAccount=u'Sam Gu')\n",
    "friend = itchat.search_friends(remarkName=u'Sam Gu')\n",
    "# friend = itchat.search_friends(userName=u'Sam Gu')"
   ]
  },
  {
   "cell_type": "code",
   "execution_count": 19,
   "metadata": {
    "collapsed": false
   },
   "outputs": [],
   "source": [
    "for i in range(0, len(friend)):\n",
    "    print('NickName  : %s' % friend[i]['NickName'])\n",
    "    print('Alias A-ID: %s' % friend[i]['Alias'])\n",
    "    print('RemarkName: %s' % friend[i]['RemarkName'])\n",
    "    print('UserName  : %s' % friend[i]['UserName'])"
   ]
  },
  {
   "cell_type": "code",
   "execution_count": 20,
   "metadata": {
    "collapsed": false
   },
   "outputs": [],
   "source": [
    "# 查找群组\n",
    "# group = itchat.search_chatrooms(name=u'Data Science')\n",
    "group = itchat.search_chatrooms(name=u'陪聊妹UAT')"
   ]
  },
  {
   "cell_type": "code",
   "execution_count": 21,
   "metadata": {
    "collapsed": false,
    "scrolled": true
   },
   "outputs": [
    {
     "name": "stdout",
     "output_type": "stream",
     "text": [
      "NickName  : 酷豆陪聊妹UAT-R\n",
      "Alias A-ID: \n",
      "RemarkName: \n",
      "UserName  : @@a721d71873f176c664c062706466c66a830410ed39a1005ea0b006d10326491e\n",
      "Is Owner? : 0 ( 0 for No | 1 for Yes )\n",
      "Is Admin? : None\n",
      "\n",
      "NickName  : 酷豆陪聊妹UAT-S\n",
      "Alias A-ID: \n",
      "RemarkName: \n",
      "UserName  : @@ff2397345c79057b747ff39bf1790fb0ff64930dd62501c3a37e66492aa4f1dd\n",
      "Is Owner? : 0 ( 0 for No | 1 for Yes )\n",
      "Is Admin? : None\n",
      "\n"
     ]
    }
   ],
   "source": [
    "for i in range(0, len(group)):\n",
    "    print('NickName  : %s' % group[i]['NickName'])\n",
    "    print('Alias A-ID: %s' % group[i]['Alias'])\n",
    "    print('RemarkName: %s' % group[i]['RemarkName'])\n",
    "    print('UserName  : %s' % group[i]['UserName'])\n",
    "    print('Is Owner? : %s ( 0 for No | 1 for Yes )' % group[0]['IsOwner'])\n",
    "    print('Is Admin? : %s' % group[i]['IsAdmin'])\n",
    "    print('')"
   ]
  },
  {
   "cell_type": "markdown",
   "metadata": {},
   "source": [
    "### * 发送信息（文字、图片、文件、音频、视频等）"
   ]
  },
  {
   "cell_type": "code",
   "execution_count": 25,
   "metadata": {
    "collapsed": false
   },
   "outputs": [
    {
     "name": "stdout",
     "output_type": "stream",
     "text": [
      "请求成功\n"
     ]
    }
   ],
   "source": [
    "# 文字\n",
    "reply = itchat.send(u'别来无恙啊！\\n发送时间:\\n{:%Y-%b-%d %H:%M:%S}'.format(datetime.datetime.now()), friend[0]['UserName']) \n",
    "print(reply['BaseResponse']['ErrMsg'])"
   ]
  },
  {
   "cell_type": "code",
   "execution_count": 31,
   "metadata": {
    "collapsed": false
   },
   "outputs": [
    {
     "name": "stdout",
     "output_type": "stream",
     "text": [
      "/content/datalab/TelescopeUser/workshop_blog/wechat_tool_testing\r\n"
     ]
    }
   ],
   "source": [
    "!pwd"
   ]
  },
  {
   "cell_type": "code",
   "execution_count": 32,
   "metadata": {
    "collapsed": false
   },
   "outputs": [
    {
     "name": "stdout",
     "output_type": "stream",
     "text": [
      "请求成功\n"
     ]
    }
   ],
   "source": [
    "# 图片\n",
    "reply = itchat.send_image('../wechat_tool/reference/WeChat_SamGu_QR.png', friend[0]['UserName']) \n",
    "print(reply['BaseResponse']['ErrMsg'])"
   ]
  },
  {
   "cell_type": "code",
   "execution_count": 33,
   "metadata": {
    "collapsed": false
   },
   "outputs": [
    {
     "name": "stdout",
     "output_type": "stream",
     "text": [
      "请求成功\n"
     ]
    }
   ],
   "source": [
    "# 文件\n",
    "reply = itchat.send_file('../wechat_tool/reference/logo.pdf', friend[0]['UserName']) \n",
    "print(reply['BaseResponse']['ErrMsg'])"
   ]
  },
  {
   "cell_type": "code",
   "execution_count": 34,
   "metadata": {
    "collapsed": false
   },
   "outputs": [
    {
     "name": "stdout",
     "output_type": "stream",
     "text": [
      "请求成功\n"
     ]
    }
   ],
   "source": [
    "# 音频（语音可以先转成MP3）\n",
    "reply = itchat.send_file('../wechat_tool/reference/audio.mp3', friend[0]['UserName']) \n",
    "print(reply['BaseResponse']['ErrMsg'])"
   ]
  },
  {
   "cell_type": "code",
   "execution_count": 35,
   "metadata": {
    "collapsed": false
   },
   "outputs": [
    {
     "name": "stdout",
     "output_type": "stream",
     "text": [
      "请求成功\n"
     ]
    }
   ],
   "source": [
    "# 视频\n",
    "reply = itchat.send_video('../wechat_tool/reference/video.mp4', friend[0]['UserName']) \n",
    "print(reply['BaseResponse']['ErrMsg'])"
   ]
  },
  {
   "cell_type": "code",
   "execution_count": null,
   "metadata": {
    "collapsed": false,
    "scrolled": true
   },
   "outputs": [],
   "source": [
    "# 发送信息去群组： group[0]['UserName']\n",
    "# 文字\n",
    "reply = itchat.send(u'别来无恙啊！\\n发送时间:\\n{:%Y-%b-%d %H:%M:%S}'.format(datetime.datetime.now()), group[0]['UserName']) \n",
    "print(reply['BaseResponse']['ErrMsg'])"
   ]
  },
  {
   "cell_type": "markdown",
   "metadata": {},
   "source": [
    "### * 接收信息"
   ]
  },
  {
   "cell_type": "markdown",
   "metadata": {},
   "source": [
    "显示发给自己的文本消息："
   ]
  },
  {
   "cell_type": "code",
   "execution_count": null,
   "metadata": {
    "collapsed": true
   },
   "outputs": [],
   "source": [
    "# itchat.auto_login(hotReload=True) # hotReload=True: 退出程序后暂存登陆状态。即使程序关闭，一定时间内重新开启也可以不用重新扫码。"
   ]
  },
  {
   "cell_type": "code",
   "execution_count": null,
   "metadata": {
    "collapsed": true
   },
   "outputs": [],
   "source": [
    "@itchat.msg_register(itchat.content.TEXT)\n",
    "def text_reply(msg):\n",
    "    print(msg['Text'])"
   ]
  },
  {
   "cell_type": "code",
   "execution_count": null,
   "metadata": {
    "collapsed": false
   },
   "outputs": [],
   "source": [
    "# 长期有效地运行（术语叫做：开始监听）\n",
    "itchat.run()"
   ]
  },
  {
   "cell_type": "markdown",
   "metadata": {},
   "source": [
    "回复发给自己的文本消息："
   ]
  },
  {
   "cell_type": "code",
   "execution_count": null,
   "metadata": {
    "collapsed": false
   },
   "outputs": [],
   "source": [
    "# interupt, then re-login\n",
    "itchat.auto_login(hotReload=True)"
   ]
  },
  {
   "cell_type": "code",
   "execution_count": null,
   "metadata": {
    "collapsed": true
   },
   "outputs": [],
   "source": [
    "@itchat.msg_register(itchat.content.TEXT)\n",
    "def text_reply(msg):\n",
    "    print(msg['Text'])\n",
    "    return u'谢谢亲[嘴唇]我收到 I received:\\n' + msg['Text']"
   ]
  },
  {
   "cell_type": "code",
   "execution_count": null,
   "metadata": {
    "collapsed": false,
    "scrolled": true
   },
   "outputs": [],
   "source": [
    "itchat.run()"
   ]
  },
  {
   "cell_type": "markdown",
   "metadata": {},
   "source": [
    "### * 自定义复杂消息处理，例如：信息存档、回复群组中被@的消息"
   ]
  },
  {
   "cell_type": "code",
   "execution_count": null,
   "metadata": {
    "collapsed": false
   },
   "outputs": [],
   "source": [
    "# interupt, then re-login\n",
    "itchat.auto_login(hotReload=True)"
   ]
  },
  {
   "cell_type": "code",
   "execution_count": null,
   "metadata": {
    "collapsed": true
   },
   "outputs": [],
   "source": [
    "# 如果收到[TEXT, MAP, CARD, NOTE, SHARING]类的信息，会自动回复：\n",
    "@itchat.msg_register([TEXT, MAP, CARD, NOTE, SHARING]) # 文字、位置、名片、通知、分享\n",
    "def text_reply(msg):\n",
    "    itchat.send('%s: %s' % (msg['Type'], msg['Text']), msg['FromUserName'])\n",
    "\n",
    "# 如果收到[PICTURE, RECORDING, ATTACHMENT, VIDEO]类的信息，会自动保存：\n",
    "@itchat.msg_register([PICTURE, RECORDING, ATTACHMENT, VIDEO]) # 图片、语音、文件、视频\n",
    "def download_files(msg):\n",
    "    msg['Text'](msg['FileName'])\n",
    "    return '@%s@%s' % ({'Picture': 'img', 'Video': 'vid'}.get(msg['Type'], 'fil'), msg['FileName'])\n",
    "\n",
    "# 如果收到新朋友的请求，会自动通过验证添加加好友，并主动打个招呼：幸会幸会！Nice to meet you!\n",
    "@itchat.msg_register(FRIENDS)\n",
    "def add_friend(msg):\n",
    "    itchat.add_friend(**msg['Text']) # 该操作会自动将新好友的消息录入，不需要重载通讯录\n",
    "    itchat.send_msg(u'幸会幸会！Nice to meet you!', msg['RecommendInfo']['UserName'])\n",
    "\n",
    "# 在群里，如果收到@自己的文字信息，会自动回复：\n",
    "@itchat.msg_register(TEXT, isGroupChat=True)\n",
    "def text_reply(msg):\n",
    "    if msg['isAt']:\n",
    "        itchat.send(u'@%s\\u2005I received: %s' % (msg['ActualNickName'], msg['Content']), msg['FromUserName'])\n"
   ]
  },
  {
   "cell_type": "code",
   "execution_count": null,
   "metadata": {
    "collapsed": false,
    "scrolled": true
   },
   "outputs": [],
   "source": [
    "itchat.run()"
   ]
  },
  {
   "cell_type": "code",
   "execution_count": null,
   "metadata": {
    "collapsed": false
   },
   "outputs": [],
   "source": [
    "# interupt, then logout\n",
    "itchat.logout() # 安全退出"
   ]
  },
  {
   "cell_type": "markdown",
   "metadata": {},
   "source": [
    "### 恭喜您！已经能够使用微信问答机制了。\n",
    "* 使用和开发微信个人号聊天机器人：一种Python编程接口 (Use WeChat Python API)\n",
    "* 用微信App扫QR码图片来自动登录 (Log-in, contact scan, and processing of text, image, file, video, etc)\n",
    "* 查找指定联系人或群组 (Scan ccontact list)\n",
    "* 发送信息（文字、图片、文件、音频、视频等） (Send message: text, image, file, voice, video, etc)\n",
    "* 接收信息 (Receive message, and keep 'listening')\n",
    "* 自动回复 (Receive message and then automaticaly reply)\n",
    "* 自定义复杂消息处理，例如：信息存档、回复群组中被@的消息 (Advanced message processing and reply)"
   ]
  },
  {
   "cell_type": "markdown",
   "metadata": {},
   "source": [
    "### 下一课是第二课：图像识别和处理\n",
    "### Lesson 2: Image Recognition & Processing\n",
    "* 识别图片消息中的物体名字 (Recognize objects in image)\n",
    "* 识别图片消息中的文字 (OCR: Extract text from image)\n",
    "* 识别人脸 (Recognize human face)\n",
    "* 基于人脸的表情来识别喜怒哀乐等情绪 (Identify semtiment and emotion from human face)"
   ]
  },
  {
   "cell_type": "markdown",
   "metadata": {},
   "source": [
    "<img src='http://www.kudosdata.com/wp-content/uploads/2016/11/cropped-KudosLogo1.png' width=30% style=\"float: right;\">\n",
    "<img src='reference/WeChat_SamGu_QR.png' width=10% style=\"float: left;\">\n",
    "\n"
   ]
  }
 ],
 "metadata": {
  "kernelspec": {
   "display_name": "Python 2",
   "language": "python",
   "name": "python2"
  },
  "language_info": {
   "codemirror_mode": {
    "name": "ipython",
    "version": 2
   },
   "file_extension": ".py",
   "mimetype": "text/x-python",
   "name": "python",
   "nbconvert_exporter": "python",
   "pygments_lexer": "ipython2",
   "version": "2.7.9"
  }
 },
 "nbformat": 4,
 "nbformat_minor": 2
}
