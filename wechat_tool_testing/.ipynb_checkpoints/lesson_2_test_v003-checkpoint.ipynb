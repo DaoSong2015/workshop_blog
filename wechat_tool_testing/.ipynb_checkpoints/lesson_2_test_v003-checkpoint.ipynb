{
 "cells": [
  {
   "cell_type": "markdown",
   "metadata": {},
   "source": [
    "# 如何使用和开发微信聊天机器人的系列教程\n",
    "# A workshop to develop & use an intelligent and interactive chat-bot in WeChat"
   ]
  },
  {
   "cell_type": "markdown",
   "metadata": {},
   "source": [
    "### WeChat is a popular social media app, which has more than 800 million monthly active users.\n",
    "\n",
    "<img src='http://www.kudosdata.com/wp-content/uploads/2016/11/cropped-KudosLogo1.png' width=30% style=\"float: right;\">\n",
    "<img src='reference/WeChat_SamGu_QR.png' width=10% style=\"float: right;\">\n",
    "\n",
    "### http://www.KudosData.com\n",
    "\n",
    "by: Sam.Gu@KudosData.com\n",
    "\n",
    "\n",
    "May 2017 ========== Scan the QR code to become trainer's friend in WeChat ========>>"
   ]
  },
  {
   "cell_type": "markdown",
   "metadata": {},
   "source": [
    "### 第二课：图像识别和处理\n",
    "\n",
    "### Lesson 2: Image Recognition & Processing\n",
    "\n",
    "* 识别图片消息中的物体名字 (Recognize objects in image)\n",
    "* 识别图片消息中的文字 (OCR: Extract text from image)\n",
    "* 识别人脸 (Recognize human face)\n",
    "* 基于人脸的表情来识别喜怒哀乐等情绪 (Identify sentiment and emotion from human face)"
   ]
  },
  {
   "cell_type": "markdown",
   "metadata": {
    "collapsed": true
   },
   "source": [
    "### Using Google Cloud Platform's Machine Learning APIs\n",
    "\n",
    "First, visit <a href=\"http://console.cloud.google.com/apis\">API console</a>, choose \"Credentials\" on the left-hand menu.  Choose \"Create Credentials\" and generate an API key for your application. You should probably restrict it by IP address to prevent abuse, but for now, just  leave that field blank and delete the API key after trying out this demo.\n",
    "\n",
    "Copy-paste your API Key here:"
   ]
  },
  {
   "cell_type": "code",
   "execution_count": 1,
   "metadata": {
    "collapsed": true
   },
   "outputs": [],
   "source": [
    "# Here I read in my own API_KEY from a file, which is not shared in Github repository:\n",
    "with open('../../API_KEY.txt') as fp: \n",
    "    for line in fp: APIKEY = line\n",
    "\n",
    "# You need to un-comment below line and replace 'APIKEY' variable with your own GCP API key:\n",
    "# APIKEY=\"xxxxxxxxxxxxxxxxxxxxxxxxxxxxxxxxxxxxxxxx\""
   ]
  },
  {
   "cell_type": "markdown",
   "metadata": {},
   "source": [
    "From the same API console, choose \"Dashboard\" on the left-hand menu and \"Enable API\".\n",
    "\n",
    "Enable the following APIs for your project (search for them) if they are not already enabled:\n",
    "<ol>\n",
    "<li> Google Translate API </li>\n",
    "<li> Google Cloud Vision API </li>\n",
    "<li> Google Natural Language API </li>\n",
    "<li> Google Cloud Speech API </li>\n",
    "</ol>\n",
    "\n",
    "Finally, because we are calling the APIs from Python (clients in many other languages are available), let's install the Python package (it's not installed by default on Datalab)"
   ]
  },
  {
   "cell_type": "code",
   "execution_count": null,
   "metadata": {
    "collapsed": false,
    "scrolled": true
   },
   "outputs": [],
   "source": [
    "# Copyright 2016 Google Inc.\n",
    "# Licensed under the Apache License, Version 2.0 (the \"License\"); \n",
    "# you may not use this file except in compliance with the License. You may obtain a copy of the License at\n",
    "# http://www.apache.org/licenses/LICENSE-2.0\n",
    "# Unless required by applicable law or agreed to in writing, software distributed under the License is distributed \n",
    "# on an \"AS IS\" BASIS, WITHOUT WARRANTIES OR CONDITIONS OF ANY KIND, either express or implied. See the License for \n",
    "# the specific language governing permissions and limitations under the License.\n",
    "!pip install --upgrade google-api-python-client"
   ]
  },
  {
   "cell_type": "markdown",
   "metadata": {},
   "source": [
    "### 导入需要用到的一些功能程序库："
   ]
  },
  {
   "cell_type": "code",
   "execution_count": 2,
   "metadata": {
    "collapsed": false
   },
   "outputs": [
    {
     "name": "stdout",
     "output_type": "stream",
     "text": [
      "█\r"
     ]
    }
   ],
   "source": [
    "import time, datetime, requests, itchat\n",
    "from itchat.content import *"
   ]
  },
  {
   "cell_type": "code",
   "execution_count": 3,
   "metadata": {
    "collapsed": false
   },
   "outputs": [],
   "source": [
    "from googleapiclient.discovery import build"
   ]
  },
  {
   "cell_type": "markdown",
   "metadata": {},
   "source": [
    "### Define image pre-processing functions"
   ]
  },
  {
   "cell_type": "code",
   "execution_count": 4,
   "metadata": {
    "collapsed": true
   },
   "outputs": [],
   "source": [
    "# Import the base64 encoding library.\n",
    "import base64\n",
    "# Pass the image data to an encoding function.\n",
    "def encode_image(image_file):\n",
    "    with open(image_file, \"rb\") as image_file:\n",
    "        image_content = image_file.read()\n",
    "    return base64.b64encode(image_content)"
   ]
  },
  {
   "cell_type": "markdown",
   "metadata": {
    "collapsed": true
   },
   "source": [
    "### * 识别图片消息中的物体名字 (Recognize objects in image) [1] General Object"
   ]
  },
  {
   "cell_type": "code",
   "execution_count": 5,
   "metadata": {
    "collapsed": false
   },
   "outputs": [],
   "source": [
    "# Running Vision API\n",
    "# 'LABEL_DETECTION'\n",
    "\n",
    "def KudosData_LABEL_DETECTION(image_base64, API_type, maxResults):\n",
    "    vservice = build('vision', 'v1', developerKey=APIKEY)\n",
    "    request = vservice.images().annotate(body={\n",
    "        'requests': [{\n",
    "                'image': {\n",
    "#                     'source': {\n",
    "#                         'gcs_image_uri': IMAGE\n",
    "#                     }\n",
    "                      \"content\": image_base64\n",
    "                },\n",
    "                'features': [{\n",
    "                    'type': API_type,\n",
    "                    'maxResults': maxResults,\n",
    "                }]\n",
    "            }],\n",
    "        })\n",
    "    responses = request.execute(num_retries=3)\n",
    "    image_analysis_reply = '\\n[ ' + API_type + ' 物体识别 ]\\n'\n",
    "    # 'LABEL_DETECTION'\n",
    "    if responses['responses'][0] != {}:\n",
    "        for i in range(len(responses['responses'][0]['labelAnnotations'])):\n",
    "            image_analysis_reply += str(responses['responses'][0]['labelAnnotations'][i]['description']) + '\\n( score ' +  str(responses['responses'][0]['labelAnnotations'][i]['score']) + ' )\\n'\n",
    "    return image_analysis_reply"
   ]
  },
  {
   "cell_type": "markdown",
   "metadata": {
    "collapsed": true
   },
   "source": [
    "### * 识别图片消息中的物体名字 (Recognize objects in image) [2] Landmark Object"
   ]
  },
  {
   "cell_type": "code",
   "execution_count": 6,
   "metadata": {
    "collapsed": false
   },
   "outputs": [],
   "source": [
    "# Running Vision API\n",
    "# 'LANDMARK_DETECTION'\n",
    "\n",
    "def KudosData_LANDMARK_DETECTION(image_base64, API_type, maxResults):\n",
    "    vservice = build('vision', 'v1', developerKey=APIKEY)\n",
    "    request = vservice.images().annotate(body={\n",
    "        'requests': [{\n",
    "                'image': {\n",
    "#                     'source': {\n",
    "#                         'gcs_image_uri': IMAGE\n",
    "#                     }\n",
    "                      \"content\": image_base64\n",
    "                },\n",
    "                'features': [{\n",
    "                    'type': API_type,\n",
    "                    'maxResults': maxResults,\n",
    "                }]\n",
    "            }],\n",
    "        })\n",
    "    responses = request.execute(num_retries=3)\n",
    "    image_analysis_reply = '\\n[ ' + API_type + ' 地标识别 ]\\n'\n",
    "    # 'LANDMARK_DETECTION'\n",
    "    if responses['responses'][0] != {}:\n",
    "        for i in range(len(responses['responses'][0]['landmarkAnnotations'])):\n",
    "            image_analysis_reply += str(responses['responses'][0]['landmarkAnnotations'][i]['description']) + '\\n( score ' +  str(responses['responses'][0]['landmarkAnnotations'][i]['score']) + ' )\\n'\n",
    "    return image_analysis_reply"
   ]
  },
  {
   "cell_type": "markdown",
   "metadata": {
    "collapsed": true
   },
   "source": [
    "### * 识别图片消息中的物体名字 (Recognize objects in image) [3] Logo Object"
   ]
  },
  {
   "cell_type": "code",
   "execution_count": 7,
   "metadata": {
    "collapsed": false
   },
   "outputs": [],
   "source": [
    "# Running Vision API\n",
    "# 'LOGO_DETECTION'\n",
    "\n",
    "def KudosData_LOGO_DETECTION(image_base64, API_type, maxResults):\n",
    "    vservice = build('vision', 'v1', developerKey=APIKEY)\n",
    "    request = vservice.images().annotate(body={\n",
    "        'requests': [{\n",
    "                'image': {\n",
    "#                     'source': {\n",
    "#                         'gcs_image_uri': IMAGE\n",
    "#                     }\n",
    "                      \"content\": image_base64\n",
    "                },\n",
    "                'features': [{\n",
    "                    'type': API_type,\n",
    "                    'maxResults': maxResults,\n",
    "                }]\n",
    "            }],\n",
    "        })\n",
    "    responses = request.execute(num_retries=3)\n",
    "    image_analysis_reply = '\\n[ ' + API_type + ' 商标识别 ]\\n'\n",
    "    # 'LOGO_DETECTION'\n",
    "    if responses['responses'][0] != {}:\n",
    "        for i in range(len(responses['responses'][0]['logoAnnotations'])):\n",
    "            image_analysis_reply += str(responses['responses'][0]['logoAnnotations'][i]['description']) + '\\n( score ' +  str(responses['responses'][0]['logoAnnotations'][i]['score']) + ' )\\n'\n",
    "    return image_analysis_reply"
   ]
  },
  {
   "cell_type": "markdown",
   "metadata": {
    "collapsed": true
   },
   "source": [
    "### * 识别图片消息中的文字 (OCR: Extract text from image)"
   ]
  },
  {
   "cell_type": "code",
   "execution_count": 8,
   "metadata": {
    "collapsed": false
   },
   "outputs": [],
   "source": [
    "# Running Vision API\n",
    "# 'TEXT_DETECTION'\n",
    "\n",
    "def KudosData_TEXT_DETECTION(image_base64, API_type, maxResults):\n",
    "    vservice = build('vision', 'v1', developerKey=APIKEY)\n",
    "    request = vservice.images().annotate(body={\n",
    "        'requests': [{\n",
    "                'image': {\n",
    "#                     'source': {\n",
    "#                         'gcs_image_uri': IMAGE\n",
    "#                     }\n",
    "                      \"content\": image_base64\n",
    "                },\n",
    "                'features': [{\n",
    "                    'type': API_type,\n",
    "                    'maxResults': maxResults,\n",
    "                }]\n",
    "            }],\n",
    "        })\n",
    "    responses = request.execute(num_retries=3)\n",
    "    image_analysis_reply = '\\n[ ' + API_type + ' 文字提取 ]\\n'\n",
    "    # 'TEXT_DETECTION'\n",
    "    if responses['responses'][0] != {}:\n",
    "        image_analysis_reply += u'Language 语种: ' + str(responses['responses'][0]['textAnnotations'][0]['locale']) + '\\n'\n",
    "        image_analysis_reply += '----- Start of Text -----\\n' + responses['responses'][0]['textAnnotations'][0]['description'] + '----- End  of  Text -----\\n'\n",
    "    return image_analysis_reply"
   ]
  },
  {
   "cell_type": "markdown",
   "metadata": {
    "collapsed": true
   },
   "source": [
    "### * 识别人脸 (Recognize human face)\n",
    "### * 基于人脸的表情来识别喜怒哀乐等情绪 (Identify sentiment and emotion from human face)"
   ]
  },
  {
   "cell_type": "code",
   "execution_count": 9,
   "metadata": {
    "collapsed": false
   },
   "outputs": [],
   "source": [
    "# Running Vision API\n",
    "# 'FACE_DETECTION'\n",
    "\n",
    "def KudosData_FACE_DETECTION(image_base64, API_type, maxResults):\n",
    "    vservice = build('vision', 'v1', developerKey=APIKEY)\n",
    "    request = vservice.images().annotate(body={\n",
    "        'requests': [{\n",
    "                'image': {\n",
    "#                     'source': {\n",
    "#                         'gcs_image_uri': IMAGE\n",
    "#                     }\n",
    "                      \"content\": image_base64\n",
    "                },\n",
    "                'features': [{\n",
    "                    'type': API_type,\n",
    "                    'maxResults': maxResults,\n",
    "                }]\n",
    "            }],\n",
    "        })\n",
    "    responses = request.execute(num_retries=3)\n",
    "    image_analysis_reply = '\\n[ ' + API_type + ' 人脸表情 ]\\n'\n",
    "    # 'FACE_DETECTION'\n",
    "    if responses['responses'][0] != {}:\n",
    "        for i in range(len(responses['responses'][0]['faceAnnotations'])):\n",
    "            image_analysis_reply += u'--------------------\\n'\n",
    "            image_analysis_reply += u'No.' + str(i+1) + ' Face Detected:\\n'\n",
    "            image_analysis_reply += u' -> Joy 快乐: ' + responses['responses'][0]['faceAnnotations'][i][u'joyLikelihood'] + '\\n'\n",
    "            image_analysis_reply += u' -> Anger 生气: ' + responses['responses'][0]['faceAnnotations'][i][u'angerLikelihood'] + '\\n'\n",
    "            image_analysis_reply += u' -> Sorrow 悲伤: ' + responses['responses'][0]['faceAnnotations'][i][u'sorrowLikelihood'] + '\\n'\n",
    "            image_analysis_reply += u' -> Surprise 惊奇: ' + responses['responses'][0]['faceAnnotations'][i][u'surpriseLikelihood'] + '\\n'\n",
    "            image_analysis_reply += u' -> Headwear 戴帽: ' + responses['responses'][0]['faceAnnotations'][i][u'headwearLikelihood'] + '\\n'\n",
    "            image_analysis_reply += u' -> Blurred 模糊: ' + responses['responses'][0]['faceAnnotations'][i][u'blurredLikelihood'] + '\\n'\n",
    "            image_analysis_reply += u' -> UnderExposed 欠曝光: ' + responses['responses'][0]['faceAnnotations'][i][u'underExposedLikelihood'] + '\\n'\n",
    "    return image_analysis_reply"
   ]
  },
  {
   "cell_type": "markdown",
   "metadata": {
    "collapsed": true
   },
   "source": [
    "### * 不良内容识别 (Explicit Content Detection)\n",
    "\n",
    "Detect explicit content like adult content or violent content within an image."
   ]
  },
  {
   "cell_type": "code",
   "execution_count": 10,
   "metadata": {
    "collapsed": false
   },
   "outputs": [],
   "source": [
    "# Running Vision API\n",
    "# 'SAFE_SEARCH_DETECTION'\n",
    "\n",
    "def KudosData_SAFE_SEARCH_DETECTION(image_base64, API_type, maxResults):\n",
    "    vservice = build('vision', 'v1', developerKey=APIKEY)\n",
    "    request = vservice.images().annotate(body={\n",
    "        'requests': [{\n",
    "                'image': {\n",
    "#                     'source': {\n",
    "#                         'gcs_image_uri': IMAGE\n",
    "#                     }\n",
    "                      \"content\": image_base64\n",
    "                },\n",
    "                'features': [{\n",
    "                    'type': API_type,\n",
    "                    'maxResults': maxResults,\n",
    "                }]\n",
    "            }],\n",
    "        })\n",
    "    responses = request.execute(num_retries=3)\n",
    "    image_analysis_reply = '\\n[ ' + API_type + ' 不良内容 ]\\n'\n",
    "    # 'SAFE_SEARCH_DETECTION'\n",
    "    if responses['responses'][0] != {}:\n",
    "        image_analysis_reply += u' -> Adult 成人: ' + responses['responses'][0]['safeSearchAnnotation'][u'adult'] + '\\n'\n",
    "        image_analysis_reply += u' -> Violence 暴力: ' + responses['responses'][0]['safeSearchAnnotation'][u'violence'] + '\\n'\n",
    "        image_analysis_reply += u' -> Spoof 欺诈: ' + responses['responses'][0]['safeSearchAnnotation'][u'spoof'] + '\\n'\n",
    "        image_analysis_reply += u' -> Medical 医疗: ' + responses['responses'][0]['safeSearchAnnotation'][u'medical'] + '\\n'\n",
    "    return image_analysis_reply"
   ]
  },
  {
   "cell_type": "code",
   "execution_count": null,
   "metadata": {
    "collapsed": true
   },
   "outputs": [],
   "source": []
  },
  {
   "cell_type": "code",
   "execution_count": null,
   "metadata": {
    "collapsed": true
   },
   "outputs": [],
   "source": []
  },
  {
   "cell_type": "code",
   "execution_count": null,
   "metadata": {
    "collapsed": true
   },
   "outputs": [],
   "source": []
  },
  {
   "cell_type": "markdown",
   "metadata": {},
   "source": [
    "### 用微信App扫QR码图片来自动登录"
   ]
  },
  {
   "cell_type": "code",
   "execution_count": 11,
   "metadata": {
    "collapsed": false
   },
   "outputs": [],
   "source": [
    "itchat.auto_login(hotReload=True) # hotReload=True: 退出程序后暂存登陆状态。即使程序关闭，一定时间内重新开启也可以不用重新扫码。\n",
    "# itchat.auto_login(enableCmdQR=-2) # enableCmdQR=-2: 命令行显示QR图片"
   ]
  },
  {
   "cell_type": "code",
   "execution_count": 12,
   "metadata": {
    "collapsed": false
   },
   "outputs": [],
   "source": [
    "@itchat.msg_register([PICTURE], isGroupChat=True)\n",
    "# @itchat.msg_register([PICTURE, RECORDING, ATTACHMENT, VIDEO])\n",
    "def download_files(msg):\n",
    "    msg.download(msg.fileName)\n",
    "    print('Downloaded image file name is: %s' % msg['FileName'])\n",
    "    image_base64 = encode_image(msg['FileName'])\n",
    "    image_analysis_reply = '[ Image Analysis Results ]\\n'\n",
    "    image_analysis_reply += KudosData_LABEL_DETECTION(image_base64, 'LABEL_DETECTION', 5)\n",
    "    image_analysis_reply += KudosData_LANDMARK_DETECTION(image_base64, 'LANDMARK_DETECTION', 5)\n",
    "    image_analysis_reply += KudosData_LOGO_DETECTION(image_base64, 'LOGO_DETECTION', 5)\n",
    "    image_analysis_reply += KudosData_TEXT_DETECTION(image_base64, 'TEXT_DETECTION', 5)\n",
    "    image_analysis_reply += KudosData_FACE_DETECTION(image_base64, 'FACE_DETECTION', 5)\n",
    "    image_analysis_reply += KudosData_SAFE_SEARCH_DETECTION(image_base64, 'SAFE_SEARCH_DETECTION', 5)\n",
    "    return image_analysis_reply"
   ]
  },
  {
   "cell_type": "code",
   "execution_count": null,
   "metadata": {
    "collapsed": false,
    "scrolled": false
   },
   "outputs": [
    {
     "name": "stderr",
     "output_type": "stream",
     "text": [
      "Start auto replying.\n"
     ]
    }
   ],
   "source": [
    "itchat.run()"
   ]
  },
  {
   "cell_type": "code",
   "execution_count": null,
   "metadata": {
    "collapsed": true
   },
   "outputs": [],
   "source": []
  },
  {
   "cell_type": "code",
   "execution_count": null,
   "metadata": {
    "collapsed": false
   },
   "outputs": [],
   "source": [
    "# interupt, then logout\n",
    "itchat.logout() # 安全退出"
   ]
  },
  {
   "cell_type": "markdown",
   "metadata": {},
   "source": [
    "### 恭喜您！已经完成了：\n",
    "### 第二课：图像识别和处理\n",
    "### Lesson 2: Image Recognition & Processing\n",
    "* 识别图片消息中的物体名字 (Recognize objects in image)\n",
    "* 识别图片消息中的文字 (OCR: Extract text from image)\n",
    "* 识别人脸 (Recognize human face)\n",
    "* 基于人脸的表情来识别喜怒哀乐等情绪 (Identify sentiment and emotion from human face)"
   ]
  },
  {
   "cell_type": "markdown",
   "metadata": {},
   "source": [
    "### 下一课是:\n",
    "### 第三课：自然语言处理\n",
    "### Lesson 3: Natural Language Processing\n",
    "* 消息文字转成语音 (Speech synthesis: text to voice)\n",
    "* 语音转换成消息文字 (Speech recognition: voice to text)\n",
    "* 消息文字的多语言互译 (Text based language translation)"
   ]
  },
  {
   "cell_type": "markdown",
   "metadata": {},
   "source": [
    "<img src='http://www.kudosdata.com/wp-content/uploads/2016/11/cropped-KudosLogo1.png' width=30% style=\"float: right;\">\n",
    "<img src='reference/WeChat_SamGu_QR.png' width=10% style=\"float: left;\">\n",
    "\n"
   ]
  }
 ],
 "metadata": {
  "kernelspec": {
   "display_name": "Python 2",
   "language": "python",
   "name": "python2"
  },
  "language_info": {
   "codemirror_mode": {
    "name": "ipython",
    "version": 2
   },
   "file_extension": ".py",
   "mimetype": "text/x-python",
   "name": "python",
   "nbconvert_exporter": "python",
   "pygments_lexer": "ipython2",
   "version": "2.7.12"
  }
 },
 "nbformat": 4,
 "nbformat_minor": 2
}
