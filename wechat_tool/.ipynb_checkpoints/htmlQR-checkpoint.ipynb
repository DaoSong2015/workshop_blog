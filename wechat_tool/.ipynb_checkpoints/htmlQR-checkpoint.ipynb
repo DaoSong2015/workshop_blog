{
 "cells": [
  {
   "cell_type": "code",
   "execution_count": 4,
   "metadata": {
    "collapsed": false,
    "scrolled": false
   },
   "outputs": [
    {
     "data": {
      "text/html": [
       "<img id=\"qr\" src=\"QR2.png\" style=\"min-height:30px\" />\n",
       "<script>\n",
       "setInterval(function(){ \n",
       "    document.getElementById('qr').src=\"QR2.png?\"+Math.random()\n",
       "}, 5000);\n",
       "</script>"
      ],
      "text/plain": [
       "<IPython.core.display.HTML object>"
      ]
     },
     "metadata": {},
     "output_type": "display_data"
    }
   ],
   "source": [
    "%%html\n",
    "<img id=\"qr\" src=\"QR2.png\" style=\"min-height:30px\" />\n",
    "<script>\n",
    "setInterval(function(){ \n",
    "    document.getElementById('qr').src=\"QR2.png?\"+Math.random()\n",
    "}, 5000);\n",
    "</script>"
   ]
  },
  {
   "cell_type": "code",
   "execution_count": 9,
   "metadata": {
    "collapsed": false,
    "scrolled": false
   },
   "outputs": [
    {
     "data": {
      "text/html": [
       "<img id=\"qr\" src=\"QR2.png\" style=\"max-height:300px\" />\n",
       "<script>\n",
       "setInterval(function(){ \n",
       "    document.getElementById('qr').src=\"QR2.png?\"+Math.random()\n",
       "}, 5000);\n",
       "</script>"
      ],
      "text/plain": [
       "<IPython.core.display.HTML object>"
      ]
     },
     "metadata": {},
     "output_type": "display_data"
    }
   ],
   "source": [
    "%%html\n",
    "<img id=\"qr\" src=\"QR2.png\" style=\"max-height:300px\" />\n",
    "<script>\n",
    "setInterval(function(){ \n",
    "    document.getElementById('qr').src=\"QR2.png?\"+Math.random()\n",
    "}, 5000);\n",
    "</script>"
   ]
  },
  {
   "cell_type": "code",
   "execution_count": null,
   "metadata": {
    "collapsed": true
   },
   "outputs": [],
   "source": []
  },
  {
   "cell_type": "code",
   "execution_count": 2,
   "metadata": {
    "collapsed": false
   },
   "outputs": [
    {
     "name": "stdout",
     "output_type": "stream",
     "text": [
      "PING 8.8.8.8 (8.8.8.8) 56(84) bytes of data.\n",
      "64 bytes from 8.8.8.8: icmp_seq=1 ttl=58 time=35.7 ms\n",
      "64 bytes from 8.8.8.8: icmp_seq=2 ttl=58 time=41.9 ms\n",
      "64 bytes from 8.8.8.8: icmp_seq=3 ttl=58 time=48.6 ms\n",
      "64 bytes from 8.8.8.8: icmp_seq=4 ttl=58 time=33.8 ms\n",
      "64 bytes from 8.8.8.8: icmp_seq=5 ttl=58 time=42.2 ms\n",
      "64 bytes from 8.8.8.8: icmp_seq=6 ttl=58 time=38.4 ms\n",
      "64 bytes from 8.8.8.8: icmp_seq=7 ttl=58 time=38.0 ms\n",
      "64 bytes from 8.8.8.8: icmp_seq=8 ttl=58 time=32.6 ms\n",
      "^C\n",
      "\n",
      "--- 8.8.8.8 ping statistics ---\n",
      "8 packets transmitted, 8 received, 0% packet loss, time 7199ms\n",
      "rtt min/avg/max/mdev = 32.668/38.943/48.636/4.888 ms\n"
     ]
    }
   ],
   "source": [
    "!ping 8.8.8.8"
   ]
  },
  {
   "cell_type": "code",
   "execution_count": 12,
   "metadata": {
    "collapsed": false
   },
   "outputs": [
    {
     "name": "stdout",
     "output_type": "stream",
     "text": [
      "\u001b[31mCannot uninstall requirement itchat, not installed\u001b[0m\n",
      "\u001b[33mYou are using pip version 8.1.2, however version 9.0.1 is available.\n",
      "You should consider upgrading via the 'pip install --upgrade pip' command.\u001b[0m\n",
      "yes: standard output: Broken pipe\n"
     ]
    }
   ],
   "source": [
    "!yes | pip uninstall itchat"
   ]
  },
  {
   "cell_type": "code",
   "execution_count": 13,
   "metadata": {
    "collapsed": false
   },
   "outputs": [
    {
     "name": "stdout",
     "output_type": "stream",
     "text": [
      "Collecting itchat\n",
      "  Using cached itchat-1.3.5-py2.py3-none-any.whl\n",
      "Requirement already up-to-date: requests in /home/user/env/lib/python2.7/site-packages (from itchat)\n",
      "Requirement already up-to-date: pyqrcode in /home/user/env/lib/python2.7/site-packages (from itchat)\n",
      "Requirement already up-to-date: pypng in /home/user/env/lib/python2.7/site-packages (from itchat)\n",
      "Installing collected packages: itchat\n",
      "Successfully installed itchat-1.3.5\n",
      "\u001b[33mYou are using pip version 8.1.2, however version 9.0.1 is available.\n",
      "You should consider upgrading via the 'pip install --upgrade pip' command.\u001b[0m\n"
     ]
    }
   ],
   "source": [
    "!pip install -U itchat"
   ]
  },
  {
   "cell_type": "code",
   "execution_count": null,
   "metadata": {
    "collapsed": true
   },
   "outputs": [],
   "source": []
  }
 ],
 "metadata": {
  "kernelspec": {
   "display_name": "Python 2",
   "language": "python",
   "name": "python2"
  },
  "language_info": {
   "codemirror_mode": {
    "name": "ipython",
    "version": 2
   },
   "file_extension": ".py",
   "mimetype": "text/x-python",
   "name": "python",
   "nbconvert_exporter": "python",
   "pygments_lexer": "ipython2",
   "version": "2.7.12"
  }
 },
 "nbformat": 4,
 "nbformat_minor": 0
}
