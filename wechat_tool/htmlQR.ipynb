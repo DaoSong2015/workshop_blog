{
 "cells": [
  {
   "cell_type": "code",
   "execution_count": 1,
   "metadata": {
    "collapsed": false
   },
   "outputs": [
    {
     "data": {
      "text/html": [
       "<img id=\"qr\" src=\"QR2.png\" style=\"min-height:30px\" />\n",
       "<script>\n",
       "setInterval(function(){ \n",
       "    document.getElementById('qr').src=\"QR2.png?\"+Math.random()\n",
       "}, 5000);\n",
       "</script>"
      ],
      "text/plain": [
       "<IPython.core.display.HTML object>"
      ]
     },
     "metadata": {},
     "output_type": "display_data"
    }
   ],
   "source": [
    "%%html\n",
    "<img id=\"qr\" src=\"QR2.png\" style=\"min-height:30px\" />\n",
    "<script>\n",
    "setInterval(function(){ \n",
    "    document.getElementById('qr').src=\"QR2.png?\"+Math.random()\n",
    "}, 5000);\n",
    "</script>"
   ]
  },
  {
   "cell_type": "code",
   "execution_count": null,
   "metadata": {
    "collapsed": true
   },
   "outputs": [],
   "source": []
  },
  {
   "cell_type": "code",
   "execution_count": 2,
   "metadata": {
    "collapsed": false
   },
   "outputs": [
    {
     "name": "stdout",
     "output_type": "stream",
     "text": [
      "PING 8.8.8.8 (8.8.8.8) 56(84) bytes of data.\n",
      "64 bytes from 8.8.8.8: icmp_seq=1 ttl=58 time=35.7 ms\n",
      "64 bytes from 8.8.8.8: icmp_seq=2 ttl=58 time=41.9 ms\n",
      "64 bytes from 8.8.8.8: icmp_seq=3 ttl=58 time=48.6 ms\n",
      "64 bytes from 8.8.8.8: icmp_seq=4 ttl=58 time=33.8 ms\n",
      "64 bytes from 8.8.8.8: icmp_seq=5 ttl=58 time=42.2 ms\n",
      "64 bytes from 8.8.8.8: icmp_seq=6 ttl=58 time=38.4 ms\n",
      "64 bytes from 8.8.8.8: icmp_seq=7 ttl=58 time=38.0 ms\n",
      "64 bytes from 8.8.8.8: icmp_seq=8 ttl=58 time=32.6 ms\n",
      "^C\n",
      "\n",
      "--- 8.8.8.8 ping statistics ---\n",
      "8 packets transmitted, 8 received, 0% packet loss, time 7199ms\n",
      "rtt min/avg/max/mdev = 32.668/38.943/48.636/4.888 ms\n"
     ]
    }
   ],
   "source": [
    "!ping 8.8.8.8"
   ]
  },
  {
   "cell_type": "code",
   "execution_count": null,
   "metadata": {
    "collapsed": true
   },
   "outputs": [],
   "source": []
  },
  {
   "cell_type": "code",
   "execution_count": null,
   "metadata": {
    "collapsed": true
   },
   "outputs": [],
   "source": []
  }
 ],
 "metadata": {
  "kernelspec": {
   "display_name": "Python 2",
   "language": "python",
   "name": "python2"
  },
  "language_info": {
   "codemirror_mode": {
    "name": "ipython",
    "version": 2
   },
   "file_extension": ".py",
   "mimetype": "text/x-python",
   "name": "python",
   "nbconvert_exporter": "python",
   "pygments_lexer": "ipython2",
   "version": "2.7.12"
  }
 },
 "nbformat": 4,
 "nbformat_minor": 0
}
