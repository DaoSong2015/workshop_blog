{
 "cells": [
  {
   "cell_type": "markdown",
   "metadata": {
    "collapsed": true
   },
   "source": [
    "<img src='http://www.kudosdata.com/wp-content/uploads/2016/11/cropped-KudosLogo1.png' width=20% style=\"float: right;\">\n",
    "# Workshop Blog Installation Guide\n",
    "### http://www.KudosData.com\n"
   ]
  },
  {
   "cell_type": "markdown",
   "metadata": {},
   "source": [
    "---"
   ]
  },
  {
   "cell_type": "markdown",
   "metadata": {},
   "source": [
    "# Option 1: Use Cloud Platform (Difficulty level: Easy, like being a boss)"
   ]
  },
  {
   "cell_type": "markdown",
   "metadata": {},
   "source": [
    "### Create an account in Google Cloud Platform (GCP)\n",
    "To be announced...\n"
   ]
  },
  {
   "cell_type": "markdown",
   "metadata": {},
   "source": [
    "### Start Datalab (Jupyter python notebook) in GCP Compute Engine\n",
    "To be announced...\n"
   ]
  },
  {
   "cell_type": "markdown",
   "metadata": {
    "collapsed": true
   },
   "source": [
    "### Install WeChat API package for GCP"
   ]
  },
  {
   "cell_type": "markdown",
   "metadata": {},
   "source": [
    "* Download wxpy from Github: https://github.com/telescopeuser/wxpy.git\n",
    "* Go to command line: python setup.py install\n",
    "* Go to command line: pip uninstall itchat\n",
    "\n",
    "\n",
    "* Download itchat from Github: https://github.com/telescopeuser/ItChat.git\n",
    "* Go to command line: python setup.py install\n",
    "\n",
    "\n",
    "* pip install -U some packages: html, backports.tempfile\n"
   ]
  },
  {
   "cell_type": "markdown",
   "metadata": {},
   "source": [
    "### Download workshop python notebook code from Github: https://github.com/telescopeuser/workshop_blog.git"
   ]
  },
  {
   "cell_type": "markdown",
   "metadata": {},
   "source": [
    "### Open a web browser, go to url: http://127.0.0.1:8080/tree"
   ]
  },
  {
   "cell_type": "markdown",
   "metadata": {},
   "source": [
    "---"
   ]
  },
  {
   "cell_type": "markdown",
   "metadata": {},
   "source": [
    "# Option 2: Use a Virtual Machine to run in your own computer (Difficulty level: Medium, as bribing your colleague)"
   ]
  },
  {
   "cell_type": "markdown",
   "metadata": {},
   "source": [
    "### Download a virtual machine (VM about 1.5 GB), which contains this workshop notebook.\n",
    "To be announced... or email me for enquiry: Sam.Gu@KudosData.com\n"
   ]
  },
  {
   "cell_type": "markdown",
   "metadata": {},
   "source": [
    "### Install Virtualbox tool to use above virtual machine, if you don't have this software. https://www.virtualbox.org/wiki/Downloads"
   ]
  },
  {
   "cell_type": "markdown",
   "metadata": {},
   "source": [
    "### Start to run the VM using Virtualbox (Check Host-VM network setting if needed.)"
   ]
  },
  {
   "cell_type": "markdown",
   "metadata": {},
   "source": [
    "### [Optional] Update workshop python notebook code from Github: https://github.com/telescopeuser/workshop_blog.git"
   ]
  },
  {
   "cell_type": "markdown",
   "metadata": {},
   "source": [
    "### Open a web browser, go to url: http://127.0.0.1:8080/tree"
   ]
  },
  {
   "cell_type": "markdown",
   "metadata": {},
   "source": [
    "---"
   ]
  },
  {
   "cell_type": "markdown",
   "metadata": {},
   "source": [
    "# Option 3: Use your own computer (Difficulty level: High, as what you normally do)"
   ]
  },
  {
   "cell_type": "markdown",
   "metadata": {},
   "source": [
    "### Install Anaconda (This software includes many useful tools: Python, Jupyter Notebook, pip)\n",
    "https://www.continuum.io/downloads"
   ]
  },
  {
   "cell_type": "markdown",
   "metadata": {
    "collapsed": true
   },
   "source": [
    "### Install WeChat API package for Anaconda3 / python3+ (Recommended)"
   ]
  },
  {
   "cell_type": "markdown",
   "metadata": {},
   "source": [
    "* pip install -U wpxy"
   ]
  },
  {
   "cell_type": "markdown",
   "metadata": {
    "collapsed": true
   },
   "source": [
    "### Install WeChat API package for Anaconda2 / python2+  (Not Recommended)"
   ]
  },
  {
   "cell_type": "markdown",
   "metadata": {},
   "source": [
    "* Download wxpy from Github: https://github.com/telescopeuser/wxpy.git\n",
    "* Go to command line: python setup.py install\n",
    "* Go to command line: pip uninstall itchat\n",
    "\n",
    "\n",
    "* Download itchat from Github: https://github.com/telescopeuser/ItChat.git\n",
    "* Go to command line: python setup.py install\n",
    "\n",
    "\n",
    "* pip install -U some packages: html, backports.tempfile\n"
   ]
  },
  {
   "cell_type": "markdown",
   "metadata": {},
   "source": [
    "### Download workshop python notebook code from Github: https://github.com/telescopeuser/workshop_blog.git"
   ]
  },
  {
   "cell_type": "markdown",
   "metadata": {},
   "source": [
    "### Start Jupyter Notebook (Here I use Git Bash command line tool)"
   ]
  },
  {
   "cell_type": "markdown",
   "metadata": {},
   "source": [
    "### Open a webbrowser, go to url: http://localhost/tree"
   ]
  },
  {
   "cell_type": "markdown",
   "metadata": {},
   "source": [
    "---"
   ]
  },
  {
   "cell_type": "markdown",
   "metadata": {
    "collapsed": true
   },
   "source": [
    "# After completing either option 1 or 2, you are now ready to rock! Follow the python notebook workshop...\n",
    "\n",
    "<img src='./wechat_tool/reference/setup_ref_01.png' width=100% style=\"float: left;\">"
   ]
  },
  {
   "cell_type": "markdown",
   "metadata": {},
   "source": [
    "---"
   ]
  }
 ],
 "metadata": {
  "kernelspec": {
   "display_name": "Python 2",
   "language": "python",
   "name": "python2"
  },
  "language_info": {
   "codemirror_mode": {
    "name": "ipython",
    "version": 2
   },
   "file_extension": ".py",
   "mimetype": "text/x-python",
   "name": "python",
   "nbconvert_exporter": "python",
   "pygments_lexer": "ipython2",
   "version": "2.7.12"
  }
 },
 "nbformat": 4,
 "nbformat_minor": 0
}
