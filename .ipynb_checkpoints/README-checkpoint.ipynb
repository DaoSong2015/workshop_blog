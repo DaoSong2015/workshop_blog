{
 "cells": [
  {
   "cell_type": "markdown",
   "metadata": {
    "collapsed": true
   },
   "source": [
    "# A workshop to use an intelligent and interactive chat-bot in WeChat\n",
    "### WehChat is a popular social media app, which has more than 700 million monthly active users.\n",
    "### http://www.KudosData.com\n",
    "\n",
    "<img src='http://www.kudosdata.com/wp-content/uploads/2016/11/cropped-KudosLogo1.png' width=20% style=\"float: right;\">\n",
    "\n",
    "by: Sam.Gu@KudosData.com\n",
    "\n",
    "\n",
    "April 2017\n",
    "\n",
    "\n",
    "### We shall look at functionalities in several progressive sessions:\n",
    "\n",
    "### session 1:\n",
    "* place holder\n",
    "* place holder\n",
    "* place holder\n",
    "\n",
    "### session 2:\n",
    "* place holder\n",
    "* place holder\n",
    "* place holder\n",
    "\n",
    "### session 3:\n",
    "* place holder\n",
    "* place holder\n",
    "* place holder\n",
    "\n"
   ]
  },
  {
   "cell_type": "markdown",
   "metadata": {},
   "source": [
    "---"
   ]
  },
  {
   "cell_type": "markdown",
   "metadata": {
    "collapsed": true
   },
   "source": [
    "# 1st step: Install environment for this WeChat workshop blog:"
   ]
  },
  {
   "cell_type": "markdown",
   "metadata": {},
   "source": [
    "# Option 1: Use Cloud Platform (Difficulty level: Easy, like being a boss)"
   ]
  },
  {
   "cell_type": "markdown",
   "metadata": {},
   "source": [
    "### Create an account in Google Cloud Platform (GCP), using Cloud Console\n",
    "\n",
    "### Start Datalab (Jupyter python notebook) in GCP Compute Engine, using Cloud Shell\n",
    "\n",
    "### Create a new notebook from datalab folder, then run below two command in notebook cell:\n",
    "\n",
    "!git clone https://github.com/telescopeuser/workshop_blog.git\n",
    "\n",
    "\n",
    "%load workshop_blog/setup_cloud.py (run the cell twice: 1st to load WeChat API installtion code; 2nd to install.)\n"
   ]
  },
  {
   "cell_type": "markdown",
   "metadata": {},
   "source": [
    "### [Environment setup is now completed, Yeah~]"
   ]
  },
  {
   "cell_type": "markdown",
   "metadata": {},
   "source": [
    "---"
   ]
  },
  {
   "cell_type": "markdown",
   "metadata": {},
   "source": [
    "# Option 2: Use a Virtual Machine to run in your own computer (Difficulty level: Medium, as bribing your colleague)"
   ]
  },
  {
   "cell_type": "markdown",
   "metadata": {},
   "source": [
    "### Download a virtual machine (VM about 1.5 GB), which contains this workshop notebook.\n",
    "To be announced... or email me for enquiry: Sam.Gu@KudosData.com\n"
   ]
  },
  {
   "cell_type": "markdown",
   "metadata": {},
   "source": [
    "### Install Virtualbox tool to use above virtual machine, if you don't have this software. https://www.virtualbox.org/wiki/Downloads"
   ]
  },
  {
   "cell_type": "markdown",
   "metadata": {},
   "source": [
    "### Start to run the VM using Virtualbox (Check Host-VM network setting if needed.)"
   ]
  },
  {
   "cell_type": "markdown",
   "metadata": {},
   "source": [
    "### [Optional] Update workshop python notebook code from Github: https://github.com/telescopeuser/workshop_blog.git"
   ]
  },
  {
   "cell_type": "markdown",
   "metadata": {},
   "source": [
    "### Open a web browser, go to url: http://127.0.0.1:8080/tree"
   ]
  },
  {
   "cell_type": "markdown",
   "metadata": {},
   "source": [
    "### [Environment setup is now completed, Yeah~]"
   ]
  },
  {
   "cell_type": "markdown",
   "metadata": {},
   "source": [
    "---"
   ]
  },
  {
   "cell_type": "markdown",
   "metadata": {},
   "source": [
    "# Option 3: Use your own computer (Difficulty level: High, as what you normally do)"
   ]
  },
  {
   "cell_type": "markdown",
   "metadata": {},
   "source": [
    "### Install Anaconda (This software includes many useful tools: Python, Jupyter Notebook, pip)\n",
    "https://www.continuum.io/downloads"
   ]
  },
  {
   "cell_type": "markdown",
   "metadata": {
    "collapsed": true
   },
   "source": [
    "### Install WeChat API package for Anaconda3 / python3+ (Recommended)"
   ]
  },
  {
   "cell_type": "markdown",
   "metadata": {},
   "source": [
    "* pip install -U wpxy"
   ]
  },
  {
   "cell_type": "markdown",
   "metadata": {
    "collapsed": true
   },
   "source": [
    "### Install WeChat API package for Anaconda2 / python2+  (Not Recommended)"
   ]
  },
  {
   "cell_type": "markdown",
   "metadata": {},
   "source": [
    "* Download wxpy from Github: https://github.com/telescopeuser/wxpy.git\n",
    "* Go to command line: python setup.py install\n",
    "* Go to command line: pip uninstall itchat\n",
    "\n",
    "\n",
    "* Download itchat from Github: https://github.com/telescopeuser/ItChat.git\n",
    "* Go to command line: python setup.py install\n",
    "\n",
    "\n",
    "* pip install -U some packages: html, backports.tempfile\n"
   ]
  },
  {
   "cell_type": "markdown",
   "metadata": {},
   "source": [
    "### Download workshop python notebook code from Github: https://github.com/telescopeuser/workshop_blog.git"
   ]
  },
  {
   "cell_type": "markdown",
   "metadata": {},
   "source": [
    "### Start Jupyter Notebook (Here I use Git Bash command line tool)"
   ]
  },
  {
   "cell_type": "markdown",
   "metadata": {},
   "source": [
    "### Open a webbrowser, go to url: http://localhost/tree"
   ]
  },
  {
   "cell_type": "markdown",
   "metadata": {},
   "source": [
    "### [Environment setup is now completed, Yeah~]"
   ]
  },
  {
   "cell_type": "markdown",
   "metadata": {},
   "source": [
    "---"
   ]
  },
  {
   "cell_type": "markdown",
   "metadata": {
    "collapsed": true
   },
   "source": [
    "# After completing one of the installation options, you are now ready to rock! Go to folder: workshop_blog/wechat_tool, open Notebook and follow...\n",
    "\n",
    "<img src='./wechat_tool/reference/setup_ref_01.png' width=100% style=\"float: left;\">"
   ]
  },
  {
   "cell_type": "markdown",
   "metadata": {},
   "source": [
    "---"
   ]
  }
 ],
 "metadata": {
  "kernelspec": {
   "display_name": "Python 3",
   "language": "python",
   "name": "python3"
  },
  "language_info": {
   "codemirror_mode": {
    "name": "ipython",
    "version": 3
   },
   "file_extension": ".py",
   "mimetype": "text/x-python",
   "name": "python",
   "nbconvert_exporter": "python",
   "pygments_lexer": "ipython3",
   "version": "3.5.1"
  }
 },
 "nbformat": 4,
 "nbformat_minor": 0
}
