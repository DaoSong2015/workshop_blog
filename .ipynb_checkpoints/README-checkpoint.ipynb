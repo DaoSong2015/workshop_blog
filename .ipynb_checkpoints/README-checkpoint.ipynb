{
 "cells": [
  {
   "cell_type": "markdown",
   "metadata": {},
   "source": [
    "# 如何使用和开发微信聊天机器人的系列教程\n",
    "# A workshop to develop & use an intelligent and interactive chat-bot in WeChat"
   ]
  },
  {
   "cell_type": "markdown",
   "metadata": {
    "collapsed": true
   },
   "source": [
    "### WeChat is a popular social media app, which has more than 800 million monthly active users.\n",
    "\n",
    "<img src='http://www.kudosdata.com/wp-content/uploads/2016/11/cropped-KudosLogo1.png' width=30% style=\"float: right;\">\n",
    "<img src='wechat_tool/reference/WeChat_SamGu_QR.png' width=10% style=\"float: right;\">\n",
    "\n",
    "### http://www.KudosData.com\n",
    "\n",
    "by: Sam.Gu@KudosData.com\n",
    "\n",
    "\n",
    "April 2017 ============= Scan the QR code to become trainer's friend in WeChat ===========>>"
   ]
  },
  {
   "cell_type": "markdown",
   "metadata": {},
   "source": [
    "<img src='http://www.wechat-help.com/wp-content/uploads/2016/01/Main_WeChat-3.png' width=100% style=\"float: left;\">"
   ]
  },
  {
   "cell_type": "markdown",
   "metadata": {},
   "source": [
    "### Gratitude to Google, for providing free tier cloud platform with fancy machine learning capabilities in Google Datalab.\n",
    "https://cloud.google.com/datalab/docs/quickstarts\n",
    "\n",
    "### Gratitude to Python WeChat package ItChat, for making APIs between Python and WeChat.\n",
    "https://github.com/littlecodersh/ItChat\n"
   ]
  },
  {
   "cell_type": "markdown",
   "metadata": {},
   "source": [
    "---"
   ]
  },
  {
   "cell_type": "markdown",
   "metadata": {},
   "source": [
    "## 1. 教程大纲 Workshop Content"
   ]
  },
  {
   "cell_type": "markdown",
   "metadata": {
    "collapsed": true
   },
   "source": [
    "### 第一课：使用微信问答机制\n",
    "### Lesson 1: Basic usage of WeChat Python API\n",
    "* 使用和开发微信个人号聊天机器人：一种Python编程接口 (Use WeChat Python API)\n",
    "* 用微信App扫QR码图片来自动登录 (Log-in, contact scan, and processing of text, image, file, video, etc)\n",
    "* 查找指定联系人或群组 (Scan ccontact list)\n",
    "* 发送信息（文字、图片、文件、音频、视频等） (Send message: text, image, file, voice, video, etc)\n",
    "* 接收信息 (Receive message, and keep 'listening')\n",
    "* 自动回复 (Receive message and then automaticaly reply)\n",
    "* 自定义复杂消息处理，例如：信息存档、回复群组中被@的消息 (Advanced message processing and reply)"
   ]
  },
  {
   "cell_type": "markdown",
   "metadata": {},
   "source": [
    "### 第二课：图像识别和处理\n",
    "### Lesson 2: Image Recognition & Processing\n",
    "* 识别图片消息中的物体名字 (Recognize objects in image)\n",
    "* 识别图片消息中的文字 (OCR: Extract text from image)\n",
    "* 识别人脸 (Recognize human face)\n",
    "* 基于人脸的表情来识别喜怒哀乐等情绪 (Identify semtiment and emotion from human face)"
   ]
  },
  {
   "cell_type": "markdown",
   "metadata": {},
   "source": [
    "### 第三课：自然语言处理\n",
    "### Lesson 3: Natural Language Processing\n",
    "* 消息文字转成语音 (Speech recognition: voice -> text)\n",
    "* 语音转换成消息文字 (Speech synthesis: text -> voice)\n",
    "* 消息文字的多语言互译 (Text based language translation)"
   ]
  },
  {
   "cell_type": "markdown",
   "metadata": {},
   "source": [
    "### 第四课：视频识别和处理\n",
    "### Lesson 4: Video Recognition & Processing\n",
    "* 识别视频消息中的物体名字 (Recognize objects in video)\n",
    "* 识别视频的场景 (Detect scenery in video)\n",
    "* 直接搜索视频内容 (Search content in video)"
   ]
  },
  {
   "cell_type": "markdown",
   "metadata": {},
   "source": [
    "### 第五课：互动智能机器人应用\n",
    "### Lesson 5: Intelligent & Interactive Chat-bot Applications\n",
    "* 多语言翻译器 (Language translator)\n",
    "* 图文多媒体的订阅和点播 (Multi-media broadcast & on-demand subscription)\n",
    "* 文章的概括和缩写 (Automatic article summary)\n",
    "* 不良图片的识别；不良视频片段的自动识别和定位 (Explicit content detector: i.e. adult content or violent content)\n",
    "* 基于商品图片的搜索和商家价格比较 (Best retail price finder using an image of goods)"
   ]
  },
  {
   "cell_type": "markdown",
   "metadata": {},
   "source": [
    "---"
   ]
  },
  {
   "cell_type": "markdown",
   "metadata": {},
   "source": [
    "## 2. 开发环境安装"
   ]
  },
  {
   "cell_type": "markdown",
   "metadata": {},
   "source": [
    "### 选择1：使用云平台\n",
    "### Option 1: Use Cloud Platform (Difficulty level: Easy, like being a boss)\n",
    "* Create an account in Google Cloud Platform (GCP), using Cloud Console\n",
    "* Start Datalab (Jupyter python notebook) in GCP Compute Engine, using Cloud Shell\n",
    "* Create a new notebook from datalab folder, then run below two command in notebook cell:\n",
    "    > !git clone https://github.com/telescopeuser/workshop_blog.git\n",
    "\n",
    "    > %load workshop_blog/setup_cloud.py"
   ]
  },
  {
   "cell_type": "markdown",
   "metadata": {},
   "source": [
    "### 选择2：下载使用虚拟机\n",
    "### Option 2: Use a Virtual Machine to run in your own computer (Difficulty level: Medium, as bribing your colleague)\n",
    "* Download a virtual machine (VM about 1.5 GB), which contains this workshop notebook. [Download Link TBC]\n",
    "* Install Virtualbox tool to use above virtual machine, if you don't have this software. https://www.virtualbox.org/wiki/Downloads\n",
    "* Start to run the VM using Virtualbox\n",
    "* Open a web browser, go to url: https://8080-dot-2326097-dot-devshell.appspot.com/tree\n",
    "* Update/pull latest workshop python notebooks from Github: https://github.com/telescopeuser/workshop_blog.git"
   ]
  },
  {
   "cell_type": "markdown",
   "metadata": {},
   "source": [
    "### 选择3：本地电脑安装\n",
    "### Option 3: Use your own computer (Difficulty level: High, as what you normally do)\n",
    "* Install Anaconda (This software includes many useful tools: Python, Jupyter Notebook, pip) https://www.continuum.io/downloads\n",
    "* Install Git & Git Bash https://git-scm.com/downloads\n",
    "* Install WeChat API package for Anaconda / python\n",
    "    > pip install -U html\n",
    "    \n",
    "    > pip install -U qrcode\n",
    "    \n",
    "    > pip install -U itchat\n",
    "    \n",
    "* Download workshop python notebook code from Github: https://github.com/telescopeuser/workshop_blog.git\n",
    "* Start Jupyter Notebook (Here I use Git Bash command line tool)\n",
    "* Open a web browser if it's not started automatically. Go to url: http://localhost/tree"
   ]
  },
  {
   "cell_type": "markdown",
   "metadata": {},
   "source": [
    "---"
   ]
  },
  {
   "cell_type": "markdown",
   "metadata": {
    "collapsed": true
   },
   "source": [
    "## 3. 恭喜您！安装成功了！下一步进入具体课程和实战操作，请打开第一课的笔记本。 Congratulations! After completing one of the installation options, you are now ready to rock! Go to GCP Datalab folder: workshop_blog/wechat_tool, open Notebook and follow...\n",
    "\n",
    "<img src='./wechat_tool/reference/setup_ref_01.png' width=100% style=\"float: left;\">"
   ]
  },
  {
   "cell_type": "markdown",
   "metadata": {},
   "source": [
    "---"
   ]
  }
 ],
 "metadata": {
  "kernelspec": {
   "display_name": "Python 3",
   "language": "python",
   "name": "python3"
  },
  "language_info": {
   "codemirror_mode": {
    "name": "ipython",
    "version": 3
   },
   "file_extension": ".py",
   "mimetype": "text/x-python",
   "name": "python",
   "nbconvert_exporter": "python",
   "pygments_lexer": "ipython3",
   "version": "3.5.1"
  }
 },
 "nbformat": 4,
 "nbformat_minor": 0
}
